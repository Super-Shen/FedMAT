{
 "cells": [
  {
   "cell_type": "code",
   "execution_count": 1,
   "metadata": {},
   "outputs": [],
   "source": [
    "import torch\n",
    "import numpy as np"
   ]
  },
  {
   "cell_type": "code",
   "execution_count": 3,
   "metadata": {},
   "outputs": [
    {
     "name": "stdout",
     "output_type": "stream",
     "text": [
      "tensor([[2., 2., 2., 2.],\n",
      "        [2., 2., 2., 2.]])\n",
      "tensor([[3., 3., 3., 3.],\n",
      "        [3., 3., 3., 3.]])\n"
     ]
    }
   ],
   "source": [
    "x1 = torch.Tensor(np.ones([2,4])*2)\n",
    "x2 = torch.Tensor(np.ones([2,4])*3)\n",
    "\n",
    "print(x1)\n",
    "print(x2)\n"
   ]
  },
  {
   "cell_type": "code",
   "execution_count": 5,
   "metadata": {},
   "outputs": [
    {
     "name": "stdout",
     "output_type": "stream",
     "text": [
      "tensor([[2., 2., 2., 2., 3., 3., 3., 3.],\n",
      "        [2., 2., 2., 2., 3., 3., 3., 3.]])\n",
      "torch.Size([2, 8])\n"
     ]
    }
   ],
   "source": [
    "x3 = torch.cat([x1, x2], dim=-1)\n",
    "print(x3)\n",
    "print(x3.shape)"
   ]
  },
  {
   "cell_type": "code",
   "execution_count": 6,
   "metadata": {},
   "outputs": [
    {
     "name": "stdout",
     "output_type": "stream",
     "text": [
      "tensor([[2., 2., 2., 2.],\n",
      "        [3., 3., 3., 3.],\n",
      "        [2., 2., 2., 2.],\n",
      "        [3., 3., 3., 3.]])\n",
      "torch.Size([4, 4])\n"
     ]
    }
   ],
   "source": [
    "x4 = torch.reshape(x3, [-1, int(x3.shape[-1]/2)])\n",
    "print(x4)\n",
    "print(x4.shape)"
   ]
  },
  {
   "cell_type": "code",
   "execution_count": 8,
   "metadata": {},
   "outputs": [
    {
     "data": {
      "text/plain": [
       "['11', '22']"
      ]
     },
     "execution_count": 8,
     "metadata": {},
     "output_type": "execute_result"
    }
   ],
   "source": [
    "a = [\"11\", \"22\", \"44\"]\n",
    "\n",
    "b = a[:2]\n",
    "b\n"
   ]
  }
 ],
 "metadata": {
  "interpreter": {
   "hash": "df2e21ec9296ee8a3b17f7f2849a3c0cfcec3581d3d245a5122d32352bfadff4"
  },
  "kernelspec": {
   "display_name": "Python 3.8.13 ('pytorch_v1_8_1')",
   "language": "python",
   "name": "python3"
  },
  "language_info": {
   "codemirror_mode": {
    "name": "ipython",
    "version": 3
   },
   "file_extension": ".py",
   "mimetype": "text/x-python",
   "name": "python",
   "nbconvert_exporter": "python",
   "pygments_lexer": "ipython3",
   "version": "3.8.13"
  },
  "orig_nbformat": 4
 },
 "nbformat": 4,
 "nbformat_minor": 2
}
